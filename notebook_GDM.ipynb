{
 "cells": [
  {
   "cell_type": "markdown",
   "metadata": {},
   "source": [
    "## Setup"
   ]
  },
  {
   "cell_type": "code",
   "execution_count": 1,
   "metadata": {},
   "outputs": [],
   "source": [
    "from evaluate import *\n",
    "import pandas as pd\n",
    "from sklearn.model_selection import LeaveOneOut\n",
    "import warnings\n",
    "from collections import Counter, defaultdict\n",
    "from itertools import combinations\n",
    "import os\n",
    "import pickle"
   ]
  },
  {
   "cell_type": "code",
   "execution_count": 2,
   "metadata": {},
   "outputs": [],
   "source": [
    "data_root = r'RSRM\\data\\\\'"
   ]
  },
  {
   "cell_type": "code",
   "execution_count": 3,
   "metadata": {},
   "outputs": [],
   "source": [
    "dataset='GDM'\n",
    "regression = True\n",
    "data_file = f'{dataset}'"
   ]
  },
  {
   "cell_type": "code",
   "execution_count": 4,
   "metadata": {},
   "outputs": [],
   "source": [
    "dataset_name = 'GDM'\n",
    "dataset_name = dataset_name.capitalize()\n",
    "if regression:\n",
    "    metric = 'Pseudo R²'\n",
    "else:\n",
    "    metric = 'TSS'\n",
    "X, y = load_dataset(data_root + data_file + '_train.csv')"
   ]
  },
  {
   "cell_type": "code",
   "execution_count": 5,
   "metadata": {},
   "outputs": [],
   "source": [
    "import os\n",
    "from typing import List, Tuple, Dict\n",
    "import numpy as np\n",
    "from pandas import read_csv\n",
    "import pandas as pd\n",
    "\n",
    "def identify_header(path, n=5, th=0.9):\n",
    "    df1 = read_csv(path, header='infer', nrows=n)\n",
    "    df2 = read_csv(path, header=None, nrows=n)\n",
    "    sim = (df1.dtypes.values == df2.dtypes.values).mean()\n",
    "    return 'infer' if sim < th else None\n",
    "\n",
    "def load_dataset2(path):\n",
    "    root = os.path.join(data_root, f\"{path}_\")\n",
    "    header = identify_header(root + \"train.csv\")\n",
    "    df_train = read_csv(root + \"train.csv\", header=header)\n",
    "    df_test = read_csv(root + \"test.csv\", header=header)\n",
    "    return df_train, df_test\n",
    "\n",
    "def split_dataset(\n",
    "    df_train: pd.DataFrame,\n",
    "    df_test: pd.DataFrame,\n",
    "    fit: List[str],\n",
    "    split: List[str]\n",
    ") -> Tuple[\n",
    "    Dict[Tuple[str, ...], np.ndarray],  # x_train\n",
    "    Dict[Tuple[str, ...], np.ndarray],  # t_train \n",
    "    Dict[Tuple[str, ...], np.ndarray],  # x_test\n",
    "    Dict[Tuple[str, ...], np.ndarray]   # t_test\n",
    "]:\n",
    "    # Ensure target column is included\n",
    "    target_col = df_train.columns[-1]\n",
    "    if target_col not in fit:\n",
    "        fit = fit + [target_col]\n",
    "    \n",
    "    def process_df(df: pd.DataFrame) -> Tuple[Dict[Tuple[str, ...], np.ndarray], \n",
    "                                            Dict[Tuple[str, ...], np.ndarray]]:\n",
    "        \"\"\"Process dataframe into split dictionaries\"\"\"\n",
    "        if not split:\n",
    "            data = df[fit].values.T\n",
    "            return {tuple(): np.asarray(data[:-1])}, {tuple(): np.asarray(data[-1])}\n",
    "            \n",
    "        x = {}\n",
    "        t = {}\n",
    "        for group, df_group in df.groupby(split):\n",
    "            group_data = df_group[fit].values.T\n",
    "            x[group] = np.asarray(group_data[:-1])  # Features\n",
    "            t[group] = np.asarray(group_data[-1])    # Targets\n",
    "        return x, t\n",
    "    \n",
    "    return (*process_df(df_train), *process_df(df_test))\n",
    "\n",
    "train, test = load_dataset2(dataset_name)\n",
    "x, t, x_test, t_test  = split_dataset(train, test, ['A', 'T'], ['Archipelago', 'species'])"
   ]
  },
  {
   "cell_type": "code",
   "execution_count": 6,
   "metadata": {},
   "outputs": [],
   "source": [
    "equations = [\n",
    "             'C*A + C', \n",
    "             'C*exp(A) + C', \n",
    "             'C*A**0.25', \n",
    "             'C*exp(A**0.25)', \n",
    "             '(C + C*T)*exp(A**0.25)', \n",
    "             'C*A**0.25 + C*A**T*exp(T)', \n",
    "             'C*A**0.25 + C*T*(T**2)**A', \n",
    "             'C*A**0.25 + C*log(T)*(T)**(A*T)',\n",
    "            ]\n",
    "## Original found equations\n",
    "original_equations = [\n",
    "    'C + C*log(A) + C*T + C*T**2',\n",
    "    'exp(C + C*log(A) + C*T + C*T**2)',\n",
    "    'exp(C + C*log(A) + C*log(T) + C*T**2)',\n",
    "    'C + C*A + C*T + C*T**2',\n",
    "    ] "
   ]
  },
  {
   "cell_type": "code",
   "execution_count": 7,
   "metadata": {},
   "outputs": [],
   "source": [
    "def replace_numeric_parameters(equation):\n",
    "    # Pattern to match numbers that are NOT simple (1 decimal place or less)\n",
    "    pattern = r'(?<![a-zA-Z_.])-?(?:\\d+\\.\\d{2,}|\\d*\\.\\d+[eE][+-]?\\d+|\\d+[eE][+-]?\\d+)(?![a-zA-Z_.])'\n",
    "    return re.sub(pattern, 'C', equation)"
   ]
  },
  {
   "cell_type": "code",
   "execution_count": 9,
   "metadata": {},
   "outputs": [],
   "source": [
    "rsrm_output = 'RSRM/output/'\n",
    "run_file_name = 'multirun_28_first.csv'\n",
    "df = pd.read_csv(rsrm_output + run_file_name)\n",
    "df = df.drop(df[df['complexity'] == 0].index)\n",
    "df['equation'] = df['equation'].apply(lambda x: x.replace('X1', 'A').replace('X2', 'T'))\n",
    "df['equation'] = df['equation'].apply(replace_numeric_parameters)\n",
    "df['complexity'] = df['equation'].apply(count_weighted_operations)\n",
    "df = df[df['complexity'] <= 20]\n",
    "equations_considered = df['equation']\n",
    "# df['run'] = df.groupby(['left_out_archipelago', 'left_out_species']).ngroup() + 1"
   ]
  },
  {
   "cell_type": "markdown",
   "metadata": {},
   "source": [
    "### Run"
   ]
  },
  {
   "cell_type": "code",
   "execution_count": 10,
   "metadata": {},
   "outputs": [],
   "source": [
    "# Define regression settings\n",
    "warnings.filterwarnings(\"ignore\", category=RuntimeWarning)\n",
    "if regression:\n",
    "    metric = 'poisson'\n",
    "    metric = lambda t, mu: 1 - poisson_deviance(t, mu) / np.sum( t * np.log( (t + 1e-10) / np.mean(t)) )\n",
    "    metric_name = 'r2'\n",
    "    EquationConstructor = PoissonEquation\n",
    "else:\n",
    "    metric = 'bce'\n",
    "    metric = true_skill_statistic\n",
    "    metric_name = 'tss'\n",
    "    EquationConstructor = BernoulliEquation\n",
    "tt = f'loo_{metric_name}'"
   ]
  },
  {
   "cell_type": "code",
   "execution_count": 11,
   "metadata": {},
   "outputs": [],
   "source": [
    "def protect_params(equation):\n",
    "    pattern = r'(?<![a-zA-Z_.])-?(?:\\d+\\.?\\d*|\\.\\d+)(?:[eE][+-]?\\d+)?(?![a-zA-Z_.])'\n",
    "    return re.sub(pattern, 'k', equation)\n",
    "\n",
    "def replace2(equation_str, optimized_params, precision=6):\n",
    "    param_idx = 0\n",
    "    parts = []\n",
    "    last_end = 0\n",
    "    \n",
    "    pattern = re.compile(r'\\bk\\b')\n",
    "    \n",
    "    for match in pattern.finditer(equation_str):\n",
    "        start, end = match.start(), match.end()\n",
    "        parts.append(equation_str[last_end:start])\n",
    "        param = optimized_params[param_idx]\n",
    "        parts.append(f\"{param:.{precision}g}\")\n",
    "        param_idx += 1\n",
    "        last_end = end\n",
    "    \n",
    "    parts.append(equation_str[last_end:])\n",
    "    \n",
    "    if param_idx != len(optimized_params):\n",
    "        raise ValueError(f\"Found {param_idx} placeholders but got {len(optimized_params)} parameters\")\n",
    "    \n",
    "    return \"\".join(parts)"
   ]
  },
  {
   "cell_type": "code",
   "execution_count": 12,
   "metadata": {},
   "outputs": [],
   "source": [
    "def fit_equation_multi(eq_str: str):\n",
    "    random_params = list(np.random.rand(eq_str.count('C')))\n",
    "    const_params = extract_numeric_parameters(eq_str)\n",
    "    eq_str = protect_params(eq_str)\n",
    "    eq_str = replace_optimized_parameters(eq_str, random_params)\n",
    "    equation = EquationConstructor(eq_str, ['A', 'T'], use_glm=False)\n",
    "    equation.skeleton = replace2(equation.skeleton, const_params)\n",
    "    eq_res = {}\n",
    "    for group in x:\n",
    "        training_x = np.asarray(x[group]).T\n",
    "        training_t = np.asarray(t[group])\n",
    "        equation.fit(training_x, training_t)\n",
    "        y_hat = equation.predict(training_x)\n",
    "        eq_res[group] = metric(training_t, y_hat)\n",
    "    return equation.skeleton, eq_res\n",
    "    "
   ]
  },
  {
   "cell_type": "code",
   "execution_count": 13,
   "metadata": {},
   "outputs": [],
   "source": [
    "results_original_eqs = {}\n",
    "for eq_str in original_equations:\n",
    "    skeleton, eq_res = fit_equation_multi(eq_str)\n",
    "    results_original_eqs[skeleton] = eq_res"
   ]
  },
  {
   "cell_type": "code",
   "execution_count": null,
   "metadata": {},
   "outputs": [],
   "source": [
    "# It's cached, change code to take adavntage of that. First check if skeleton has already been computed\n",
    "results_new_eqs = {}\n",
    "for eq_str in equations_considered:\n",
    "    skeleton, eq_res = fit_equation_multi(eq_str)\n",
    "    results_new_eqs[skeleton] = eq_res"
   ]
  },
  {
   "cell_type": "code",
   "execution_count": 15,
   "metadata": {},
   "outputs": [],
   "source": [
    "def get_min_score_df(results):\n",
    "    data = []\n",
    "    \n",
    "    for equation, groups in results.items():\n",
    "        # Filter out endemics and collect (region, taxon, score)\n",
    "        filtered_entries = [\n",
    "            (region, taxon, score)\n",
    "            for (region, taxon), score in groups.items()\n",
    "            if \"endemic\" not in taxon.lower()\n",
    "        ]\n",
    "        \n",
    "        if filtered_entries:\n",
    "            # Find the entry with the minimum score\n",
    "            min_entry = min(filtered_entries, key=lambda x: x[2])\n",
    "            region, taxon, min_score = min_entry\n",
    "            \n",
    "            data.append({\n",
    "                \"Equation\": equation,\n",
    "                \"Agg_R2\": min_score,\n",
    "                \"Region\": region,\n",
    "                \"Taxon\": taxon\n",
    "            })\n",
    "    \n",
    "    df = pd.DataFrame(data)\n",
    "    df['Complexity'] = df['Equation'].apply(count_weighted_operations)\n",
    "    return df\n",
    "df_new_eqs = get_min_score_df(results_new_eqs)\n",
    "df_original_eqs = get_min_score_df(results_original_eqs)\n",
    "df_original_eqs = df_original_eqs[['Equation', 'Complexity', 'Agg_R2']]"
   ]
  },
  {
   "cell_type": "code",
   "execution_count": 16,
   "metadata": {},
   "outputs": [
    {
     "data": {
      "application/vnd.microsoft.datawrangler.viewer.v0+json": {
       "columns": [
        {
         "name": "Region",
         "rawType": "object",
         "type": "string"
        },
        {
         "name": "Bryophytes",
         "rawType": "int64",
         "type": "integer"
        },
        {
         "name": "Pteridophytes",
         "rawType": "int64",
         "type": "integer"
        },
        {
         "name": "Spermatophytes",
         "rawType": "int64",
         "type": "integer"
        },
        {
         "name": "Spiders",
         "rawType": "int64",
         "type": "integer"
        }
       ],
       "ref": "4baff465-217a-4f8f-9d35-8e8c1ccc3e57",
       "rows": [
        [
         "Azores",
         "10",
         "82",
         "13",
         "33"
        ],
        [
         "Canary Islands",
         "39",
         "27",
         "12",
         "4"
        ]
       ],
       "shape": {
        "columns": 4,
        "rows": 2
       }
      },
      "text/html": [
       "<div>\n",
       "<style scoped>\n",
       "    .dataframe tbody tr th:only-of-type {\n",
       "        vertical-align: middle;\n",
       "    }\n",
       "\n",
       "    .dataframe tbody tr th {\n",
       "        vertical-align: top;\n",
       "    }\n",
       "\n",
       "    .dataframe thead th {\n",
       "        text-align: right;\n",
       "    }\n",
       "</style>\n",
       "<table border=\"1\" class=\"dataframe\">\n",
       "  <thead>\n",
       "    <tr style=\"text-align: right;\">\n",
       "      <th>Taxon</th>\n",
       "      <th>Bryophytes</th>\n",
       "      <th>Pteridophytes</th>\n",
       "      <th>Spermatophytes</th>\n",
       "      <th>Spiders</th>\n",
       "    </tr>\n",
       "    <tr>\n",
       "      <th>Region</th>\n",
       "      <th></th>\n",
       "      <th></th>\n",
       "      <th></th>\n",
       "      <th></th>\n",
       "    </tr>\n",
       "  </thead>\n",
       "  <tbody>\n",
       "    <tr>\n",
       "      <th>Azores</th>\n",
       "      <td>10</td>\n",
       "      <td>82</td>\n",
       "      <td>13</td>\n",
       "      <td>33</td>\n",
       "    </tr>\n",
       "    <tr>\n",
       "      <th>Canary Islands</th>\n",
       "      <td>39</td>\n",
       "      <td>27</td>\n",
       "      <td>12</td>\n",
       "      <td>4</td>\n",
       "    </tr>\n",
       "  </tbody>\n",
       "</table>\n",
       "</div>"
      ],
      "text/plain": [
       "Taxon           Bryophytes  Pteridophytes  Spermatophytes  Spiders\n",
       "Region                                                            \n",
       "Azores                  10             82              13       33\n",
       "Canary Islands          39             27              12        4"
      ]
     },
     "execution_count": 16,
     "metadata": {},
     "output_type": "execute_result"
    }
   ],
   "source": [
    "counts = pd.crosstab(\n",
    "    index=df_new_eqs['Region'], \n",
    "    columns=df_new_eqs['Taxon']\n",
    ")\n",
    "counts"
   ]
  },
  {
   "cell_type": "code",
   "execution_count": 17,
   "metadata": {},
   "outputs": [
    {
     "name": "stdout",
     "output_type": "stream",
     "text": [
      "\\begin{table}[h!]\n",
      "\\label{tab:}\n",
      "\\begin{tabular}{lrrrr}\n",
      "\\toprule\n",
      "Taxon & Bryophytes & Pteridophytes & Spermatophytes & Spiders \\\\\n",
      "Region &  &  &  &  \\\\\n",
      "\\midrule\n",
      "Azores & 10 & 82 & 13 & 33 \\\\\n",
      "Canary Islands & 39 & 27 & 12 & 4 \\\\\n",
      "\\bottomrule\n",
      "\\end{tabular}\n",
      "\\end{table}\n",
      "\n"
     ]
    }
   ],
   "source": [
    "print(df_to_latex(counts, index=True))"
   ]
  },
  {
   "cell_type": "code",
   "execution_count": 21,
   "metadata": {},
   "outputs": [
    {
     "data": {
      "application/vnd.microsoft.datawrangler.viewer.v0+json": {
       "columns": [
        {
         "name": "index",
         "rawType": "int64",
         "type": "integer"
        },
        {
         "name": "Equation",
         "rawType": "object",
         "type": "string"
        },
        {
         "name": "Agg_R2",
         "rawType": "float64",
         "type": "float"
        },
        {
         "name": "Region",
         "rawType": "object",
         "type": "string"
        },
        {
         "name": "Taxon",
         "rawType": "object",
         "type": "string"
        },
        {
         "name": "Complexity",
         "rawType": "int64",
         "type": "integer"
        }
       ],
       "ref": "b02dd46c-6918-4477-9bfb-cc25bf3a8629",
       "rows": [
        [
         "0",
         "C*A",
         "-19.477377010805426",
         "Azores",
         "Spermatophytes",
         "2"
        ],
        [
         "1",
         "C*A + C",
         "0.002186017999121437",
         "Canary Islands",
         "Pteridophytes",
         "3"
        ],
        [
         "2",
         "C*T + C*exp(C*A)",
         "0.3841279644562645",
         "Azores",
         "Spiders",
         "5"
        ],
        [
         "3",
         "(C*A - C)/(C*A - 1)",
         "0.010518197579863608",
         "Canary Islands",
         "Pteridophytes",
         "7"
        ],
        [
         "4",
         "C*A - C*T + C - C/log(A)",
         "0.42783028624282704",
         "Azores",
         "Pteridophytes",
         "9"
        ],
        [
         "5",
         "C*A - C*T + C + C*T/A",
         "0.5697739457242988",
         "Azores",
         "Pteridophytes",
         "8"
        ],
        [
         "6",
         "C*A - C*T*exp(C*A) + C*T + C",
         "0.454338907487452",
         "Azores",
         "Pteridophytes",
         "8"
        ],
        [
         "7",
         "C*A + C*T - C*exp(C*A + C*T) + C",
         "0.39972829018979916",
         "Canary Islands",
         "Bryophytes",
         "8"
        ],
        [
         "8",
         "((C*T - 1)*(C*A + C*T + C) - C)/(C*T - 1)",
         "0.655559009469386",
         "Azores",
         "Bryophytes",
         "12"
        ],
        [
         "9",
         "C*A + C*T - C + C*exp(C*A) + C/(C*T - 1)",
         "0.4260888127585437",
         "Azores",
         "Pteridophytes",
         "15"
        ],
        [
         "10",
         "(C*T + (C*A - C*T + C)*log(T) + C*log(A))/log(T)",
         "0.5701939020913829",
         "Azores",
         "Spiders",
         "12"
        ],
        [
         "11",
         "((C*T - 1)*(C*A**C - C*A - C*T + C*log(T) + C) + C)/(C*T - 1)",
         "-0.18547912100464625",
         "Azores",
         "Bryophytes",
         "17"
        ],
        [
         "12",
         "C*A**C + C",
         "0.17384971239201308",
         "Canary Islands",
         "Pteridophytes",
         "5"
        ],
        [
         "13",
         "C*A*T + C*A + C",
         "0.373223976147136",
         "Canary Islands",
         "Bryophytes",
         "5"
        ],
        [
         "14",
         "C*A - C*exp(C*T) + C",
         "0.42560749693394917",
         "Canary Islands",
         "Spiders",
         "6"
        ],
        [
         "15",
         "C*A - C*T + C*log(T) + C",
         "0.4422792643577562",
         "Azores",
         "Pteridophytes",
         "6"
        ],
        [
         "16",
         "C*exp(C*A) - C*exp(C*T)*log(A)",
         "0.2886925894758495",
         "Canary Islands",
         "Bryophytes",
         "9"
        ],
        [
         "17",
         "C*T + C*log(A) + C + C/log(T)",
         "0.5337312741472026",
         "Canary Islands",
         "Bryophytes",
         "10"
        ],
        [
         "18",
         "C*A - C*T + C*log(A) + C + C/log(T)",
         "0.7192023851660494",
         "Canary Islands",
         "Bryophytes",
         "12"
        ],
        [
         "19",
         "(A*(C*T + C) - C*T**3 + C*T + C)/A",
         "0.3750256943380351",
         "Canary Islands",
         "Bryophytes",
         "11"
        ],
        [
         "20",
         "(A*(C*A - C*T**2 + C*T + C) + C*T + C)/A",
         "0.842209364408514",
         "Canary Islands",
         "Pteridophytes",
         "12"
        ],
        [
         "21",
         "(A*(C*A*T + C*A - C*T**2 + C*T + C) + C*T - C)/A",
         "0.9295358298286157",
         "Azores",
         "Pteridophytes",
         "14"
        ],
        [
         "22",
         "C*A*T + C*A - C*T**2 + C*T + C + C/T + C*T/A - C/(A*T)",
         "0.9768934131176864",
         "Azores",
         "Pteridophytes",
         "20"
        ],
        [
         "23",
         "C*A*T + C*A - C*T**2 + C*T + C + C/T + C*T/A - C/A + C/(A*T)",
         "0.9998682926360964",
         "Azores",
         "Bryophytes",
         "20"
        ],
        [
         "24",
         "C*exp(C*A) - C",
         "0.16386234082547868",
         "Canary Islands",
         "Pteridophytes",
         "5"
        ],
        [
         "25",
         "C*A - C*T*exp(C*T**2) + C",
         "-7.635811265731036",
         "Canary Islands",
         "Spermatophytes",
         "9"
        ],
        [
         "26",
         "C*A*T + C*A + C + C/log(A)",
         "0.4496512286295993",
         "Azores",
         "Pteridophytes",
         "11"
        ],
        [
         "27",
         "C*A - C*T + C*log(T) + C + C/log(A*T)",
         "0.48251571198125487",
         "Azores",
         "Spiders",
         "13"
        ],
        [
         "28",
         "C*A*T + C*A - C*T + C + C*T/A - C/(A*log(T))",
         "0.9115161002800477",
         "Canary Islands",
         "Spermatophytes",
         "18"
        ],
        [
         "29",
         "C*exp(A*(C - C*T))",
         "0.36897426391577015",
         "Azores",
         "Spiders",
         "7"
        ],
        [
         "30",
         "C*A - C*T + C + C/log(T)",
         "0.4843732106765809",
         "Azores",
         "Spiders",
         "9"
        ],
        [
         "31",
         "C*A*log(A) + C*A - C*exp(C*T)*log(A)",
         "-0.21420551080928862",
         "Canary Islands",
         "Pteridophytes",
         "10"
        ],
        [
         "32",
         "(A*(C*A - C*T**2 - C) + C*T + C)/A",
         "0.542810123094136",
         "Canary Islands",
         "Bryophytes",
         "11"
        ],
        [
         "33",
         "(A*(C*A - C*T**2 - C*T - C) + C*T + C)/A",
         "0.8422093642530007",
         "Canary Islands",
         "Pteridophytes",
         "12"
        ],
        [
         "34",
         "C*A - C*T**2 - C*T - C + C*T/A + C/A**2",
         "0.8444202580354816",
         "Canary Islands",
         "Pteridophytes",
         "17"
        ],
        [
         "35",
         "(A*(C*A*T + C*A - C*T**2 - C*T + C) + C*T + C)/A",
         "0.9295358297103491",
         "Azores",
         "Pteridophytes",
         "14"
        ],
        [
         "36",
         "(A*(C*A**C + C*A - C*T*log(T) + C*log(T) + C) + C*T + C)/A",
         "0.8825059796685617",
         "Azores",
         "Pteridophytes",
         "16"
        ],
        [
         "37",
         "C*A - C*T**2 - C*T*log(A) + C*T - C*log(A) - C*log(A)/log(T) - C",
         "0.9664422764199417",
         "Azores",
         "Pteridophytes",
         "19"
        ],
        [
         "38",
         "C*T/log(A) + C",
         "0.03354572931769495",
         "Canary Islands",
         "Spermatophytes",
         "6"
        ],
        [
         "39",
         "(C*A + C)/(A + C)",
         "0.021413010093348284",
         "Canary Islands",
         "Bryophytes",
         "6"
        ],
        [
         "40",
         "C*A - C*T + C + C/log(A)",
         "0.4278302862582365",
         "Azores",
         "Pteridophytes",
         "9"
        ],
        [
         "41",
         "C + C/(C*T + 1) + C/(C*A - 1)",
         "0.030661092017463032",
         "Azores",
         "Bryophytes",
         "11"
        ],
        [
         "42",
         "((C*A - 1)*(C*A + C*T + C) - C)/(C*A - 1)",
         "0.5981191691021661",
         "Azores",
         "Pteridophytes",
         "12"
        ],
        [
         "43",
         "C*log(A) + C + C/(C*T - 1) + C/(C*A - 1)",
         "0.0943525016939315",
         "Canary Islands",
         "Bryophytes",
         "14"
        ],
        [
         "44",
         "C*A - C*T + C + C/log(T) - C/(C*A - 1)",
         "0.8287471008380144",
         "Azores",
         "Pteridophytes",
         "20"
        ],
        [
         "45",
         "(C*A + (A - C)*(C*A**C + C*A - C*T + C))/(A - C)",
         "0.5241750201116688",
         "Canary Islands",
         "Bryophytes",
         "13"
        ],
        [
         "46",
         "C*A - C*A/log(T) - C*T + C + C/log(T) + C/T",
         "0.6653505946960505",
         "Azores",
         "Spiders",
         "17"
        ],
        [
         "47",
         "((C*A - 1)*(C*A*log(A) + C*A - C*T - C*exp(C*T)*log(A) + C) + C)/(C*A - 1)",
         "0.7670171864141669",
         "Canary Islands",
         "Pteridophytes",
         "20"
        ],
        [
         "48",
         "C*A**C - C",
         "0.17300997212026004",
         "Canary Islands",
         "Pteridophytes",
         "5"
        ],
        [
         "49",
         "C*A*exp(C*A) + C",
         "0.16545390785997116",
         "Canary Islands",
         "Pteridophytes",
         "6"
        ]
       ],
       "shape": {
        "columns": 5,
        "rows": 220
       }
      },
      "text/html": [
       "<div>\n",
       "<style scoped>\n",
       "    .dataframe tbody tr th:only-of-type {\n",
       "        vertical-align: middle;\n",
       "    }\n",
       "\n",
       "    .dataframe tbody tr th {\n",
       "        vertical-align: top;\n",
       "    }\n",
       "\n",
       "    .dataframe thead th {\n",
       "        text-align: right;\n",
       "    }\n",
       "</style>\n",
       "<table border=\"1\" class=\"dataframe\">\n",
       "  <thead>\n",
       "    <tr style=\"text-align: right;\">\n",
       "      <th></th>\n",
       "      <th>Equation</th>\n",
       "      <th>Agg_R2</th>\n",
       "      <th>Region</th>\n",
       "      <th>Taxon</th>\n",
       "      <th>Complexity</th>\n",
       "    </tr>\n",
       "  </thead>\n",
       "  <tbody>\n",
       "    <tr>\n",
       "      <th>0</th>\n",
       "      <td>C*A</td>\n",
       "      <td>-19.477377</td>\n",
       "      <td>Azores</td>\n",
       "      <td>Spermatophytes</td>\n",
       "      <td>2</td>\n",
       "    </tr>\n",
       "    <tr>\n",
       "      <th>1</th>\n",
       "      <td>C*A + C</td>\n",
       "      <td>0.002186</td>\n",
       "      <td>Canary Islands</td>\n",
       "      <td>Pteridophytes</td>\n",
       "      <td>3</td>\n",
       "    </tr>\n",
       "    <tr>\n",
       "      <th>2</th>\n",
       "      <td>C*T + C*exp(C*A)</td>\n",
       "      <td>0.384128</td>\n",
       "      <td>Azores</td>\n",
       "      <td>Spiders</td>\n",
       "      <td>5</td>\n",
       "    </tr>\n",
       "    <tr>\n",
       "      <th>3</th>\n",
       "      <td>(C*A - C)/(C*A - 1)</td>\n",
       "      <td>0.010518</td>\n",
       "      <td>Canary Islands</td>\n",
       "      <td>Pteridophytes</td>\n",
       "      <td>7</td>\n",
       "    </tr>\n",
       "    <tr>\n",
       "      <th>4</th>\n",
       "      <td>C*A - C*T + C - C/log(A)</td>\n",
       "      <td>0.427830</td>\n",
       "      <td>Azores</td>\n",
       "      <td>Pteridophytes</td>\n",
       "      <td>9</td>\n",
       "    </tr>\n",
       "    <tr>\n",
       "      <th>...</th>\n",
       "      <td>...</td>\n",
       "      <td>...</td>\n",
       "      <td>...</td>\n",
       "      <td>...</td>\n",
       "      <td>...</td>\n",
       "    </tr>\n",
       "    <tr>\n",
       "      <th>215</th>\n",
       "      <td>((C*A - 1)*(C*A - C*T*log(A) - C*T - C*log(A) ...</td>\n",
       "      <td>0.591611</td>\n",
       "      <td>Azores</td>\n",
       "      <td>Pteridophytes</td>\n",
       "      <td>17</td>\n",
       "    </tr>\n",
       "    <tr>\n",
       "      <th>216</th>\n",
       "      <td>C*A - C*T + C + C/log(T) - C/(A*log(T))</td>\n",
       "      <td>0.686629</td>\n",
       "      <td>Azores</td>\n",
       "      <td>Spiders</td>\n",
       "      <td>13</td>\n",
       "    </tr>\n",
       "    <tr>\n",
       "      <th>217</th>\n",
       "      <td>C*A + C*exp(C*A)*exp(C*T) + C/(C*A*T - 1)</td>\n",
       "      <td>0.095285</td>\n",
       "      <td>Canary Islands</td>\n",
       "      <td>Spermatophytes</td>\n",
       "      <td>18</td>\n",
       "    </tr>\n",
       "    <tr>\n",
       "      <th>218</th>\n",
       "      <td>C*A - C*T + C + C/log(A**2*T**2) + C/(C*T - 1)</td>\n",
       "      <td>0.519016</td>\n",
       "      <td>Canary Islands</td>\n",
       "      <td>Spiders</td>\n",
       "      <td>19</td>\n",
       "    </tr>\n",
       "    <tr>\n",
       "      <th>219</th>\n",
       "      <td>((C*A - 1)*(C*A*log(A) + C*A - C*T*log(A) - C*...</td>\n",
       "      <td>0.774945</td>\n",
       "      <td>Azores</td>\n",
       "      <td>Pteridophytes</td>\n",
       "      <td>20</td>\n",
       "    </tr>\n",
       "  </tbody>\n",
       "</table>\n",
       "<p>220 rows × 5 columns</p>\n",
       "</div>"
      ],
      "text/plain": [
       "                                              Equation     Agg_R2  \\\n",
       "0                                                  C*A -19.477377   \n",
       "1                                              C*A + C   0.002186   \n",
       "2                                     C*T + C*exp(C*A)   0.384128   \n",
       "3                                  (C*A - C)/(C*A - 1)   0.010518   \n",
       "4                             C*A - C*T + C - C/log(A)   0.427830   \n",
       "..                                                 ...        ...   \n",
       "215  ((C*A - 1)*(C*A - C*T*log(A) - C*T - C*log(A) ...   0.591611   \n",
       "216            C*A - C*T + C + C/log(T) - C/(A*log(T))   0.686629   \n",
       "217          C*A + C*exp(C*A)*exp(C*T) + C/(C*A*T - 1)   0.095285   \n",
       "218     C*A - C*T + C + C/log(A**2*T**2) + C/(C*T - 1)   0.519016   \n",
       "219  ((C*A - 1)*(C*A*log(A) + C*A - C*T*log(A) - C*...   0.774945   \n",
       "\n",
       "             Region           Taxon  Complexity  \n",
       "0            Azores  Spermatophytes           2  \n",
       "1    Canary Islands   Pteridophytes           3  \n",
       "2            Azores         Spiders           5  \n",
       "3    Canary Islands   Pteridophytes           7  \n",
       "4            Azores   Pteridophytes           9  \n",
       "..              ...             ...         ...  \n",
       "215          Azores   Pteridophytes          17  \n",
       "216          Azores         Spiders          13  \n",
       "217  Canary Islands  Spermatophytes          18  \n",
       "218  Canary Islands         Spiders          19  \n",
       "219          Azores   Pteridophytes          20  \n",
       "\n",
       "[220 rows x 5 columns]"
      ]
     },
     "execution_count": 21,
     "metadata": {},
     "output_type": "execute_result"
    }
   ],
   "source": [
    "df_new_eqs"
   ]
  },
  {
   "cell_type": "code",
   "execution_count": 26,
   "metadata": {},
   "outputs": [
    {
     "data": {
      "text/plain": [
       "<matplotlib.legend.Legend at 0x235bbd22510>"
      ]
     },
     "execution_count": 26,
     "metadata": {},
     "output_type": "execute_result"
    },
    {
     "data": {
      "image/png": "[encoded data removed]",
      "text/plain": [
       "<Figure size 1000x600 with 1 Axes>"
      ]
     },
     "metadata": {},
     "output_type": "display_data"
    }
   ],
   "source": [
    "tt = 'Agg_R2'\n",
    "greater_is_better = True\n",
    "def transform_df(df):\n",
    "    df = df.sort_values(by=f'{tt}').drop_duplicates(subset='Equation').sort_values(by=['Complexity', tt], ascending=[True, False]).groupby('Complexity').head(2).reset_index(drop=True)\n",
    "    df = df[df['Complexity'] > 1]\n",
    "    df = df[df[f'{tt}'] > -1]\n",
    "    df = df[df[f'{tt}'] < 1]\n",
    "    return df\n",
    "plot_pareto_frontier([('RSRM', transform_df(df_new_eqs))], 'Complexity', tt, scatter=True, minimize_y=False)\n",
    "plt.scatter(df_original_eqs['Complexity'], df_original_eqs[tt], marker='+', color='red', label='Original')\n",
    "plt.legend()"
   ]
  },
  {
   "cell_type": "code",
   "execution_count": 33,
   "metadata": {},
   "outputs": [
    {
     "name": "stdout",
     "output_type": "stream",
     "text": [
      "\\begin{table}[h!]\n",
      "\\label{tab:}\n",
      "\\begin{tabular}{lrr}\n",
      "\\toprule\n",
      "element & count & Agg\\_R2 \\\\\n",
      "\\midrule\n",
      "C*A & 28 & -1.0000 \\\\\n",
      "(C*A - C)/(C*A - 1) & 23 & 0.0105 \\\\\n",
      "C*A + C & 21 & 0.0022 \\\\\n",
      "C*T + C*exp(C*A) & 14 & 0.3841 \\\\\n",
      "C*exp(C*A) & 7 & 0.0024 \\\\\n",
      "C*A - C*T + C + C*T/A & 6 & 0.5698 \\\\\n",
      "C*A - C*T + C*T*exp(C*A) + C & 6 & 0.5394 \\\\\n",
      "C*A - C*T + C*log(T) + C & 6 & 0.4423 \\\\\n",
      "C*A - C*T + C + C/log(T) & 5 & 0.4844 \\\\\n",
      "C*A - C*T + C*T*exp(C*A*T) + C & 5 & 0.4610 \\\\\n",
      "C*T + C*log(A) + C + C/log(T) & 5 & 0.5337 \\\\\n",
      "C*A - C*exp(C*T) + C & 5 & 0.4256 \\\\\n",
      "C*A*T + C*A + C & 5 & 0.3732 \\\\\n",
      "(C*A*T - C)/(C*A*T - 1) & 5 & -1.0000 \\\\\n",
      "C*A**C + C & 4 & 0.1738 \\\\\n",
      "C*A - C*T + C + C/(A*log(T)) & 4 & 0.4988 \\\\\n",
      "(A*(C*A - C*T**2 - C*T - C) + C*T + C)/A & 4 & 0.8422 \\\\\n",
      "C*A - C*T + C*exp(C*T/A) & 3 & -1.0000 \\\\\n",
      "C*A - C*T*exp(C*A*T) + C & 3 & -0.3862 \\\\\n",
      "(A*(C*A*T + C*A - C*T**2 + C*T + C) + C*T + C)/A & 3 & 0.9295 \\\\\n",
      "((C*T - 1)*(C*A - C*T + C) + C)/(C*T - 1) & 3 & -0.5849 \\\\\n",
      "C*A - C*T + C*exp(C*A + C*T) + C & 3 & 0.4582 \\\\\n",
      "C*A**3 + C & 3 & 0.0352 \\\\\n",
      "C*A - C*T - C*log(A) + C + C/log(T) & 3 & 0.7192 \\\\\n",
      "((C*A - 1)*(C*A - C*T*log(A) - C*T - C*log(A) + C) + C)/(C*A - 1) & 3 & 0.5916 \\\\\n",
      "C*A*T + C*A + C + C/log(A) & 3 & 0.4497 \\\\\n",
      "C*exp(C*A) - C & 3 & 0.1639 \\\\\n",
      "C*A + C*T - C*exp(C*A + C*T) + C & 3 & 0.3997 \\\\\n",
      "((C*T - 1)*(C*A + C*T + C) - C)/(C*T - 1) & 3 & 0.6556 \\\\\n",
      "C*T/log(A) + C & 3 & 0.0335 \\\\\n",
      "(C*T + (C*A - C*T + C)*log(T) + C*log(A))/log(T) & 3 & 0.5702 \\\\\n",
      "C*A*exp(C*A) + C & 2 & 0.1655 \\\\\n",
      "C*exp(C*A - C*T) & 2 & 0.3731 \\\\\n",
      "C*A - C*T*exp(C*T) + C & 2 & 0.3099 \\\\\n",
      "C*A - C*T + C - C/log(A) & 2 & 0.4278 \\\\\n",
      "C*A - C*T*exp(C*A) + C*T + C & 2 & 0.4543 \\\\\n",
      "(C*A - C)/(A - C) & 2 & -1.0000 \\\\\n",
      "((C*A - 1)*(C*A*log(A) + C*A - C*T*log(A) - C*T + C) + C)/(C*A - 1) & 2 & 0.5540 \\\\\n",
      "(A*(C*A*T + C*A - C*T*log(T) + C*T + C*log(T) + C) + C*T + C)/A & 2 & 0.9272 \\\\\n",
      "(A*(C*A - C*T**2 + C*T + C) + C*T + C)/A & 2 & 0.8422 \\\\\n",
      "(A*(C*A*T + C*A - C*T**2 + C*T + C) + C*T - C)/A & 2 & 0.9295 \\\\\n",
      "C*A - C*T**2 + C + C*T/A & 2 & 0.4704 \\\\\n",
      "C*A*T + C*A - C*T**2 + C*T + C + C/T + C*T/A - C/(A*T) & 2 & 0.9769 \\\\\n",
      "C*A + C*T*exp(C*A*T) + C & 2 & 0.4508 \\\\\n",
      "((C*A - 1)*(C*A - C*T + C) - C)/(C*A - 1) & 2 & 0.3690 \\\\\n",
      "C*A - C*T + C*log(T) + C + C/(A**2*log(T)) & 2 & 0.7863 \\\\\n",
      "C*exp(A*(C - C*T)) & 2 & 0.3690 \\\\\n",
      "((C*A - 1)*(C*A + C*T + C) - C)/(C*A - 1) & 2 & 0.5981 \\\\\n",
      "\\bottomrule\n",
      "\\end{tabular}\n",
      "\\end{table}\n",
      "\n"
     ]
    }
   ],
   "source": [
    "from collections import Counter\n",
    "from itertools import combinations\n",
    "\n",
    "counts_dict = {}\n",
    "\n",
    "new_df = df.copy()\n",
    "# eqs_per_run = new_df.groupby('run')['equation'].agg(set)\n",
    "# counts = Counter([item for subset in eqs_per_run for item in subset])\n",
    "counts = Counter(new_df['equation'])\n",
    "new_df['count'] = [counts[s] for s in new_df['equation']]\n",
    "new_df['Agg_R2'] = new_df['equation'].apply(lambda eq: np.clip(df_new_eqs[df_new_eqs['Equation'] == eq]['Agg_R2'].max(), -1, 1))\n",
    "\n",
    "# Filter elements with count > 1 and create a DataFrame\n",
    "filtered_elements = [(el, c) for el, c in counts.items() if c > 1]\n",
    "results_df = pd.DataFrame(filtered_elements, columns=['element', 'count']).sort_values('count', ascending=False)\n",
    "results_df['Agg_R2'] = results_df['element'].apply(lambda eq: np.clip(new_df[new_df['equation'] == eq]['Agg_R2'].max(), -1, 1))\n",
    "print(df_to_latex(results_df))"
   ]
  },
  {
   "cell_type": "code",
   "execution_count": 35,
   "metadata": {},
   "outputs": [],
   "source": [
    "def csv_to_latex(df, name=''):\n",
    "    df = df.copy()\n",
    "    # Ensure all entries in the 'Equation' column are strings\n",
    "    df['equation'] = df['equation'].astype(str)\n",
    "    \n",
    "    df['auc'] = df['auc'].astype(float).apply(custom_round)\n",
    "    df[f'{tt}'] = df[f'{tt}'].astype(float).apply(custom_round)\n",
    "    \n",
    "    df['equation'] = df['equation'].apply(round_constants_in_equation)\n",
    "    \n",
    "    # Start LaTeX table\n",
    "    latex_table = \"\\\\begin{table}[h!]\\n\\\\centering\\n\\\\begin{tabular}{|l|r|r|r|r|}\\n\\\\hline\\n\"\n",
    "    latex_table += \"\\\\textbf{Equation} & \\\\textbf{Complexity} & \\\\textbf{\" + f'{metric_name.upper()}' +\"} & \\\\textbf{Elbow} & \\\\textbf{Count} \\\\\\\\\\n\\\\hline\\n\"\n",
    "    \n",
    "    # Add rows\n",
    "    for index, row in df.iterrows():\n",
    "        latex_table += f\"{row['equation']} & {row['complexity']} & {row[f'{tt}']} & {row['auc']} & {row['count']} \\\\\\\\\\n\"\n",
    "    \n",
    "    # End LaTeX table\n",
    "    latex_table += \"\\\\hline\\n\\\\end{tabular}\\n\\\\caption{Pareto Frontier with LOO evaluated\" + f' {metric_name.upper()} ' + \"and Elbow metric for\" + f' {name} and {dataset_name} dataset' + \"}\\n\\\\label{{tab:complexity_metric_equation\" + f'_{name}_{dataset_name}' + \"}}\\n\\\\end{table}\"\n",
    "    \n",
    "    return latex_table"
   ]
  },
  {
   "cell_type": "code",
   "execution_count": 37,
   "metadata": {},
   "outputs": [],
   "source": [
    "def transform_df(df):\n",
    "    df = df.sort_values(by=f'{tt}').drop_duplicates(subset='equation').sort_values(by=['complexity', tt], ascending=[True, False]).groupby('complexity').head(2).reset_index(drop=True)\n",
    "    df = df[df['complexity'] > 1]\n",
    "    df = df[df[f'{tt}'] > -1]\n",
    "    df = df[df[f'{tt}'] < 1]\n",
    "    return df"
   ]
  },
  {
   "cell_type": "code",
   "execution_count": 38,
   "metadata": {},
   "outputs": [
    {
     "name": "stdout",
     "output_type": "stream",
     "text": [
      "\\begin{table}[h!]\n",
      "\\centering\n",
      "\\begin{tabular}{|l|r|r|r|r|}\n",
      "\\hline\n",
      "\\textbf{Equation} & \\textbf{Complexity} & \\textbf{R2} & \\textbf{Elbow} & \\textbf{Count} \\\\\n",
      "\\hline\n",
      "C*A + C & 3 & 2.19e-03 & nan & 21 \\\\\n",
      "C*exp(C*A) & 4 & 2.43e-03 & 0.38 & 7 \\\\\n",
      "C*T + C*exp(C*A) & 5 & 0.38 & -3.24e-01 & 14 \\\\\n",
      "C*A - C*T + C*log(T) + C & 6 & 0.44 & -2.82e-02 & 6 \\\\\n",
      "C*A + C*T*exp(C*T) - C & 7 & 0.47 & 6.77e-02 & 1 \\\\\n",
      "C*A - C*T + C + C*T/A & 8 & 0.57 & -4.99e-02 & 6 \\\\\n",
      "C*A - C*T + C*exp(C*T/A) - C & 9 & 0.62 & -1.10e-02 & 1 \\\\\n",
      "(A*(C*A - C) - C*T**2 + C*T + C)/A & 11 & 0.69 & 0.11 & 1 \\\\\n",
      "(A*(C*A - C*T**2 + C*T + C) + C*T + C)/A & 12 & 0.84 & -1.49e-01 & 2 \\\\\n",
      "(A*(C*A - C*T**2 - C*T - C) + C*T - C*log(A))/A & 13 & 0.84 & 8.18e-02 & 1 \\\\\n",
      "(A*(C*A*T + C*A - C*T**2 + C*T + C) + C*T - C)/A & 14 & 0.93 & -8.33e-02 & 2 \\\\\n",
      "C*A + C*T**C - C*T - C*log(A) - C + C/(A*log(T)) & 17 & 0.93 & 3.80e-02 & 1 \\\\\n",
      "C*A*T + C*A - C*T**2 - C*T + C - C/T + C/A - C/(A*T) & 18 & 0.97 & -1.19e-02 & 1 \\\\\n",
      "(A*(C*A*T + C*A - C*T**2 - C*T*log(T) + C*T + C) + C*T + C*log(T) + C)/A & 19 & 1.0 & -2.74e-02 & 1 \\\\\n",
      "\\hline\n",
      "\\end{tabular}\n",
      "\\caption{Pareto Frontier with LOO evaluated R2 and Elbow metric for RSRM and Gdm dataset}\n",
      "\\label{{tab:complexity_metric_equation_RSRM_Gdm}}\n",
      "\\end{table}\n",
      "\n",
      "\n"
     ]
    }
   ],
   "source": [
    "df2 = compute_pareto_frontier(transform_df(new_df), 'complexity', tt, minimize_y=not greater_is_better)\n",
    "df2 = compute_elbow_metric(df2, 'complexity', tt, maximize_tt=greater_is_better)\n",
    "df2['auc'] = df2['elbow_metric']\n",
    "print(csv_to_latex(df2[['equation', 'complexity', 'auc', 'count', f'{tt}']], 'RSRM'))\n",
    "print('\\n')"
   ]
  },
  {
   "cell_type": "code",
   "execution_count": 42,
   "metadata": {},
   "outputs": [
    {
     "name": "stdout",
     "output_type": "stream",
     "text": [
      "                            OLS Regression Results                            \n",
      "==============================================================================\n",
      "Dep. Variable:                 Agg_R2   R-squared:                       0.181\n",
      "Model:                            OLS   Adj. R-squared:                  0.174\n",
      "Method:                 Least Squares   F-statistic:                     24.05\n",
      "Date:                qua, 25 jun 2025   Prob (F-statistic):           3.68e-10\n",
      "Time:                        15:01:44   Log-Likelihood:                -143.73\n",
      "No. Observations:                 220   AIC:                             293.5\n",
      "Df Residuals:                     217   BIC:                             303.6\n",
      "Df Model:                           2                                         \n",
      "Covariance Type:            nonrobust                                         \n",
      "==============================================================================\n",
      "                 coef    std err          t      P>|t|      [0.025      0.975]\n",
      "------------------------------------------------------------------------------\n",
      "Intercept     -0.2166      0.115     -1.882      0.061      -0.444       0.010\n",
      "count         -0.0039      0.012     -0.340      0.734      -0.027       0.019\n",
      "complexity     0.0478      0.008      6.224      0.000       0.033       0.063\n",
      "==============================================================================\n",
      "Omnibus:                       99.251   Durbin-Watson:                   1.692\n",
      "Prob(Omnibus):                  0.000   Jarque-Bera (JB):              277.605\n",
      "Skew:                          -2.066   Prob(JB):                     5.24e-61\n",
      "Kurtosis:                       6.635   Cond. No.                         51.1\n",
      "==============================================================================\n",
      "\n",
      "Notes:\n",
      "[1] Standard Errors assume that the covariance matrix of the errors is correctly specified.\n"
     ]
    }
   ],
   "source": [
    "import pandas as pd\n",
    "import statsmodels.api as sm\n",
    "from patsy import dmatrices\n",
    "\n",
    "# Build design matrices using effect coding for 'run'\n",
    "# formula = 'Agg_R2 ~ count + complexity + C(run, Sum)'\n",
    "formula = 'Agg_R2 ~ count + complexity'\n",
    "y__, X__ = dmatrices(formula, data=new_df.drop_duplicates(subset='equation'), return_type='dataframe')\n",
    "\n",
    "# Fit the linear model\n",
    "model = sm.OLS(y__, X__)\n",
    "results = model.fit()\n",
    "\n",
    "# Print summary\n",
    "print(results.summary())"
   ]
  },
  {
   "cell_type": "markdown",
   "metadata": {},
   "source": [
    "### Other"
   ]
  },
  {
   "cell_type": "code",
   "execution_count": 12,
   "metadata": {},
   "outputs": [],
   "source": [
    "def identity(x, x_train=None):\n",
    "    return x\n",
    "results_cv = {}\n",
    "for eq_str in equations:\n",
    "    random_params = list(np.random.rand(eq_str.count('C')))\n",
    "    const_params = extract_numeric_parameters(eq_str)\n",
    "    eq_str = protect_params(eq_str)\n",
    "    eq_str = replace_optimized_parameters(eq_str, random_params)\n",
    "    equation = EquationConstructor(eq_str, ['A', 'T'], use_glm=False)\n",
    "    equation.skeleton = replace2(equation.skeleton, const_params)\n",
    "    eq_res = {}\n",
    "    for group in x:\n",
    "        training_x = np.asarray(x[group]).T\n",
    "        training_t = np.asarray(t[group])\n",
    "        equation.fit(training_x, training_t)\n",
    "        equation.original_Cs = equation.fitted_Cs\n",
    "        all_targets, all_predictions, all_params, used_precomputed = loocv(equation, training_x, training_t, preprocess=identity)\n",
    "        eq_res[group] = metric(training_t, all_predictions)\n",
    "    results_cv[equation.skeleton] = eq_res"
   ]
  },
  {
   "cell_type": "code",
   "execution_count": 19,
   "metadata": {},
   "outputs": [
    {
     "data": {
      "text/plain": [
       "{'C*A + C': {('Azores', 'Bryophytes'): 0.26838999693413457,\n",
       "  ('Azores', 'Pteridophytes'): -0.31014231311405194,\n",
       "  ('Azores', 'Spermatophytes'): 0.22291969580306825,\n",
       "  ('Azores', 'Spiderd (endemics)'): -0.39611292788965513,\n",
       "  ('Azores', 'Spiders'): -0.18065902592809646,\n",
       "  ('Canary Islands', 'Bryophytes'): -0.5102478957536354,\n",
       "  ('Canary Islands', 'Pteridophytes'): -0.9580635082634148,\n",
       "  ('Canary Islands', 'Spermatophytes'): -0.17084890634737238,\n",
       "  ('Canary Islands', 'Spiderd (endemics)'): -0.5314819016561858,\n",
       "  ('Canary Islands', 'Spiders'): -0.5021239192819946},\n",
       " 'C*exp(A) + C': {('Azores', 'Bryophytes'): -1.3708483990803129,\n",
       "  ('Azores', 'Pteridophytes'): -2.284009843153798,\n",
       "  ('Azores', 'Spermatophytes'): -1.973618924482449,\n",
       "  ('Azores', 'Spiderd (endemics)'): -1.6341345837343182,\n",
       "  ('Azores', 'Spiders'): -1.6623229419148937,\n",
       "  ('Canary Islands', 'Bryophytes'): -0.5925649697747621,\n",
       "  ('Canary Islands', 'Pteridophytes'): -1.3666090117532597,\n",
       "  ('Canary Islands', 'Spermatophytes'): -0.07806375926496067,\n",
       "  ('Canary Islands', 'Spiderd (endemics)'): -0.3824761161619761,\n",
       "  ('Canary Islands', 'Spiders'): -0.3500394959788764},\n",
       " 'C*A**0.25': {('Azores', 'Bryophytes'): 0.6524287432048185,\n",
       "  ('Azores', 'Pteridophytes'): 0.0076778148215959074,\n",
       "  ('Azores', 'Spermatophytes'): 0.2121515812836704,\n",
       "  ('Azores', 'Spiderd (endemics)'): 0.49279168177149446,\n",
       "  ('Azores', 'Spiders'): 0.674184135757983,\n",
       "  ('Canary Islands', 'Bryophytes'): -0.22252882859934964,\n",
       "  ('Canary Islands', 'Pteridophytes'): -0.6962331060420937,\n",
       "  ('Canary Islands', 'Spermatophytes'): 0.1739107971789393,\n",
       "  ('Canary Islands', 'Spiderd (endemics)'): -0.07905478441422709,\n",
       "  ('Canary Islands', 'Spiders'): -0.02251937931524206},\n",
       " 'C*exp(A**0.25)': {('Azores', 'Bryophytes'): 0.6366153626537066,\n",
       "  ('Azores', 'Pteridophytes'): 0.11935352740473537,\n",
       "  ('Azores', 'Spermatophytes'): 0.41857041498560843,\n",
       "  ('Azores', 'Spiderd (endemics)'): 0.3659499297709562,\n",
       "  ('Azores', 'Spiders'): 0.5362250365583909,\n",
       "  ('Canary Islands', 'Bryophytes'): -0.20903141960402905,\n",
       "  ('Canary Islands', 'Pteridophytes'): -0.6601452982485843,\n",
       "  ('Canary Islands', 'Spermatophytes'): 0.19276710640671013,\n",
       "  ('Canary Islands', 'Spiderd (endemics)'): -0.052977865113590816,\n",
       "  ('Canary Islands', 'Spiders'): 0.009968914597335177},\n",
       " '(C + C*T)*exp(A**0.25)': {('Azores', 'Bryophytes'): 0.6149113701844853,\n",
       "  ('Azores', 'Pteridophytes'): -0.023563940688464013,\n",
       "  ('Azores', 'Spermatophytes'): -0.20195804149650387,\n",
       "  ('Azores', 'Spiderd (endemics)'): 0.31779538567023047,\n",
       "  ('Azores', 'Spiders'): 0.5199659017971994,\n",
       "  ('Canary Islands', 'Bryophytes'): 0.10673612788844289,\n",
       "  ('Canary Islands', 'Pteridophytes'): 0.14357072638955515,\n",
       "  ('Canary Islands', 'Spermatophytes'): -0.34586791188399135,\n",
       "  ('Canary Islands', 'Spiderd (endemics)'): -0.6930333860609181,\n",
       "  ('Canary Islands', 'Spiders'): -0.566433719939955},\n",
       " 'C*A**0.25 + C*A**T*exp(T)': {('Azores', 'Bryophytes'): 0.1583085475929975,\n",
       "  ('Azores', 'Pteridophytes'): 0.085077834000586,\n",
       "  ('Azores', 'Spermatophytes'): 0.37595708500551916,\n",
       "  ('Azores', 'Spiderd (endemics)'): 0.3602311071297376,\n",
       "  ('Azores', 'Spiders'): 0.2593616728982704,\n",
       "  ('Canary Islands', 'Bryophytes'): -0.15206599485515992,\n",
       "  ('Canary Islands', 'Pteridophytes'): -28.573792847811525,\n",
       "  ('Canary Islands', 'Spermatophytes'): -1.4485433466502284,\n",
       "  ('Canary Islands', 'Spiderd (endemics)'): -3.0202751584732823,\n",
       "  ('Canary Islands', 'Spiders'): -2.663692080341457},\n",
       " 'C*A**0.25 + C*T*(T**2)**A': {('Azores', 'Bryophytes'): 0.6406497591267841,\n",
       "  ('Azores', 'Pteridophytes'): 0.2355239775053779,\n",
       "  ('Azores', 'Spermatophytes'): -0.23684818765788784,\n",
       "  ('Azores', 'Spiderd (endemics)'): 0.47728317774003304,\n",
       "  ('Azores', 'Spiders'): 0.5347930614295536,\n",
       "  ('Canary Islands', 'Bryophytes'): -11.72086794443324,\n",
       "  ('Canary Islands', 'Pteridophytes'): -34.94144020121087,\n",
       "  ('Canary Islands', 'Spermatophytes'): -2.6524561879923025,\n",
       "  ('Canary Islands', 'Spiderd (endemics)'): -4.02982777316147,\n",
       "  ('Canary Islands', 'Spiders'): -3.070603415474489},\n",
       " 'C*A**0.25 + C*log(T)*(T)**(A*T)': {('Azores',\n",
       "   'Bryophytes'): 0.6325325805923858,\n",
       "  ('Azores', 'Pteridophytes'): -0.49338888326263297,\n",
       "  ('Azores', 'Spermatophytes'): -1.047015073819654,\n",
       "  ('Azores', 'Spiderd (endemics)'): 0.4052259030225188,\n",
       "  ('Azores', 'Spiders'): 0.6482895520589183,\n",
       "  ('Canary Islands', 'Bryophytes'): -18.36395040271534,\n",
       "  ('Canary Islands', 'Pteridophytes'): -54.629659190933204,\n",
       "  ('Canary Islands', 'Spermatophytes'): -8.882172565302751,\n",
       "  ('Canary Islands', 'Spiderd (endemics)'): -11.704942597599931,\n",
       "  ('Canary Islands', 'Spiders'): -9.817194387047458},\n",
       " 'C + C*log(A) + C*T + C*T**2': {('Azores', 'Bryophytes'): -3.699321130152758,\n",
       "  ('Azores', 'Pteridophytes'): -1.140249474481271,\n",
       "  ('Azores', 'Spermatophytes'): -2.95339672077578,\n",
       "  ('Azores', 'Spiderd (endemics)'): -23.608339747095748,\n",
       "  ('Azores', 'Spiders'): -43.39657970388289,\n",
       "  ('Canary Islands', 'Bryophytes'): -36.27142308347089,\n",
       "  ('Canary Islands', 'Pteridophytes'): -32.95802587005276,\n",
       "  ('Canary Islands', 'Spermatophytes'): 0.5049134795774555,\n",
       "  ('Canary Islands', 'Spiderd (endemics)'): -20.47367177076945,\n",
       "  ('Canary Islands', 'Spiders'): -38.24775459206099},\n",
       " 'exp(C + C*log(A) + C*T + C*T**2)': {('Azores',\n",
       "   'Bryophytes'): 0.06487765640602661,\n",
       "  ('Azores', 'Pteridophytes'): -0.07695084928515339,\n",
       "  ('Azores', 'Spermatophytes'): -1.0234369661619014,\n",
       "  ('Azores', 'Spiderd (endemics)'): -11.611000421963922,\n",
       "  ('Azores', 'Spiders'): -10.552338804159644,\n",
       "  ('Canary Islands', 'Bryophytes'): -1.511934205919785,\n",
       "  ('Canary Islands', 'Pteridophytes'): -1.1259594024674788,\n",
       "  ('Canary Islands', 'Spermatophytes'): 0.8251096051019076,\n",
       "  ('Canary Islands', 'Spiderd (endemics)'): -0.8766774229192333,\n",
       "  ('Canary Islands', 'Spiders'): -1.034746488076483},\n",
       " 'exp(C + C*log(A) + C*log(T) + C*T**2)': {('Azores',\n",
       "   'Bryophytes'): -0.3357266024612804,\n",
       "  ('Azores', 'Pteridophytes'): -0.5244526552837714,\n",
       "  ('Azores', 'Spermatophytes'): 0.3975985533012404,\n",
       "  ('Azores', 'Spiderd (endemics)'): -8.111234022407034,\n",
       "  ('Azores', 'Spiders'): -6.6469255114330466,\n",
       "  ('Canary Islands', 'Bryophytes'): -1.5780968762046368,\n",
       "  ('Canary Islands', 'Pteridophytes'): -0.8885444040401458,\n",
       "  ('Canary Islands', 'Spermatophytes'): 0.8085421108944078,\n",
       "  ('Canary Islands', 'Spiderd (endemics)'): -0.40861546847960417,\n",
       "  ('Canary Islands', 'Spiders'): -0.4216633714540272},\n",
       " 'C + C*A + C*T + C*T**2': {('Azores', 'Bryophytes'): -65.9473671166061,\n",
       "  ('Azores', 'Pteridophytes'): -88.41464434107195,\n",
       "  ('Azores', 'Spermatophytes'): -206.20424837816853,\n",
       "  ('Azores', 'Spiderd (endemics)'): -43.36543184178679,\n",
       "  ('Azores', 'Spiders'): -65.44784196084231,\n",
       "  ('Canary Islands', 'Bryophytes'): -35.197896235047736,\n",
       "  ('Canary Islands', 'Pteridophytes'): -31.95792537338663,\n",
       "  ('Canary Islands', 'Spermatophytes'): 0.9419143033588943,\n",
       "  ('Canary Islands', 'Spiderd (endemics)'): -19.274950919280382,\n",
       "  ('Canary Islands', 'Spiders'): -37.028585313416215}}"
      ]
     },
     "execution_count": 19,
     "metadata": {},
     "output_type": "execute_result"
    }
   ],
   "source": [
    "results_cv"
   ]
  },
  {
   "cell_type": "code",
   "execution_count": 52,
   "metadata": {},
   "outputs": [
    {
     "name": "stdout",
     "output_type": "stream",
     "text": [
      "0 C*A + C\n",
      "1 C*exp(A) + C\n",
      "2 C*A**0.25\n",
      "3 C*exp(A**0.25)\n",
      "4 (C + C*T)*exp(A**0.25)\n",
      "5 C*A**0.25 + C*A**T*exp(T)\n",
      "6 C*A**0.25 + C*T*(T**2)**A\n",
      "7 C*A**0.25 + C*log(T)*(T)**(A*T)\n",
      "8 C + C*log(A) + C*T + C*T**2\n",
      "9 exp(C + C*log(A) + C*T + C*T**2)\n",
      "10 exp(C + C*log(A) + C*log(T) + C*T**2)\n",
      "11 C + C*A + C*T + C*T**2\n",
      "\n",
      "--Chosen equation--\n",
      "exp(C + C*log(A) + C*log(T) + C*T**2)\n"
     ]
    }
   ],
   "source": [
    "equation_id = 10\n",
    "for id, eq in enumerate(equations):\n",
    "    print(id, eq)\n",
    "equation = equations[equation_id]\n",
    "print(\"\\n--Chosen equation--\")\n",
    "print(equation)"
   ]
  },
  {
   "cell_type": "code",
   "execution_count": 54,
   "metadata": {},
   "outputs": [
    {
     "data": {
      "image/png": "[encoded data removed]",
      "text/plain": [
       "<Figure size 800x400 with 1 Axes>"
      ]
     },
     "metadata": {},
     "output_type": "display_data"
    }
   ],
   "source": [
    "import matplotlib.pyplot as plt\n",
    "\n",
    "cv_scores = results[equation]\n",
    "\n",
    "# 1. Prepare data: flatten keys to labels and clamp scores to [-1, 1]\n",
    "labels = [f\"{region} - {group}\" for (region, group) in cv_scores.keys()]\n",
    "scores = []\n",
    "for score in cv_scores.values():\n",
    "    # clamp between -1 and 1\n",
    "    clamped = max(-1.0, min(1.0, score))\n",
    "    scores.append(clamped)\n",
    "\n",
    "# 2. Create the horizontal bar plot\n",
    "fig, ax = plt.subplots(figsize=(8, 4))\n",
    "\n",
    "\n",
    "y_positions = range(len(labels))\n",
    "ax.barh(y_positions, scores, align='center')\n",
    "ax.set_yticks(y_positions)\n",
    "ax.set_yticklabels(labels)\n",
    "ax.invert_yaxis()  # highest on top\n",
    "\n",
    "# 3. Add axis labels and title\n",
    "ax.set_xlabel(\"Cross-Validation Score (clamped between -1 and 1)\")\n",
    "ax.set_title(equation)\n",
    "\n",
    "# Draw a vertical zero line for reference\n",
    "ax.axvline(0, color='black', linewidth=0.8, linestyle='--')\n",
    "\n",
    "plt.tight_layout()\n",
    "plt.show()\n"
   ]
  },
  {
   "cell_type": "code",
   "execution_count": 61,
   "metadata": {},
   "outputs": [
    {
     "name": "stdout",
     "output_type": "stream",
     "text": [
      "\\begin{table}[h!]\n",
      "\\label{tab:}\n",
      "\\begin{tabular}{lrr}\n",
      "\\toprule\n",
      "Equation & Complexity & Agg\\_R2 \\\\\n",
      "\\midrule\n",
      "C + C*log(A) + C*T + C*T**2 & 8 & 0.3542 \\\\\n",
      "exp(C + C*log(A) + C*T + C*T**2) & 9 & 0.3981 \\\\\n",
      "exp(C + C*log(A) + C*log(T) + C*T**2) & 10 & 0.4017 \\\\\n",
      "C + C*A + C*T + C*T**2 & 7 & 0.4442 \\\\\n",
      "\\bottomrule\n",
      "\\end{tabular}\n",
      "\\end{table}\n",
      "\n"
     ]
    }
   ],
   "source": [
    "print(df_to_latex(df_original_eqs))"
   ]
  },
  {
   "cell_type": "code",
   "execution_count": null,
   "metadata": {},
   "outputs": [],
   "source": [
    "groups = list(df2.groupby(['left_out_archipelago', 'left_out_species']).groups.keys())"
   ]
  },
  {
   "cell_type": "code",
   "execution_count": 170,
   "metadata": {},
   "outputs": [
    {
     "name": "stdout",
     "output_type": "stream",
     "text": [
      "\\begin{table}[h!]\n",
      "\\label{tab:}\n",
      "\\begin{tabular}{lrr}\n",
      "\\toprule\n",
      "element & count & loss \\\\\n",
      "\\midrule\n",
      "C*A & 8 & 34.1158 \\\\\n",
      "C*A*T + C*exp(C*A) & 7 & 4.9995 \\\\\n",
      "C*T + C*exp(C*A) & 7 & 5.5300 \\\\\n",
      "C*A + C & 7 & 3.0580 \\\\\n",
      "C*A - C*T + C*log(T) + C & 6 & 1.3715 \\\\\n",
      "C*A - C*T + C + C*T/A & 6 & 2.7062 \\\\\n",
      "C*A - C*T + C*T*exp(C*A) + C & 4 & 1.6105 \\\\\n",
      "C*A - C*T + C + C/log(T) - C/(A*log(T)) & 3 & 0.6149 \\\\\n",
      "C*T**2 + C*exp(C*A) & 3 & 5.1533 \\\\\n",
      "C*A - C*T*exp(C*A) + C*T + C & 3 & 1.8041 \\\\\n",
      "C*A - C*T*log(T) + C & 2 & 4.8630 \\\\\n",
      "C*A + C*T**C - C*T & 2 & 5.3966 \\\\\n",
      "\\bottomrule\n",
      "\\end{tabular}\n",
      "\\end{table}\n",
      "\n"
     ]
    }
   ],
   "source": [
    "print(df_to_latex(results_df))"
   ]
  },
  {
   "cell_type": "markdown",
   "metadata": {},
   "source": [
    "## Latex Reporting"
   ]
  }
 ],
 "metadata": {
  "kernelspec": {
   "display_name": "base",
   "language": "python",
   "name": "python3"
  },
  "language_info": {
   "codemirror_mode": {
    "name": "ipython",
    "version": 3
   },
   "file_extension": ".py",
   "mimetype": "text/x-python",
   "name": "python",
   "nbconvert_exporter": "python",
   "pygments_lexer": "ipython3",
   "version": "3.12.7"
  }
 },
 "nbformat": 4,
 "nbformat_minor": 2
}
